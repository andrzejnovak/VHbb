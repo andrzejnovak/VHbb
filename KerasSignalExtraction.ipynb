{
 "cells": [
  {
   "cell_type": "code",
   "execution_count": 20,
   "metadata": {},
   "outputs": [],
   "source": [
    "import rootpy\n",
    "import tensorflow as tf\n",
    "import keras\n",
    "import numpy as np\n",
    "from sklearn.metrics import roc_curve, auc\n",
    "import uproot\n",
    "import matplotlib.pyplot as plt"
   ]
  },
  {
   "cell_type": "code",
   "execution_count": 68,
   "metadata": {},
   "outputs": [],
   "source": [
    "arrays = uproot.open(\"allevts.root\")['tree'].arrays(['H_pt',\n",
    "                          'H_mass',\n",
    "                          'V_pt',\n",
    "                          'hJets_btagCSV_1',\n",
    "                          'hJets_btagCSV_0',\n",
    "                          'Top1_mass_fromLepton_regPT_w4MET',                       \n",
    "                          'V_mt',\n",
    "                          'met_pt',  \n",
    "                        'hJets_pt_0',\n",
    " \"hJets_pt_1\",\n",
    "  \"hJets_eta_0\",\n",
    "  \"hJets_eta_1\",\n",
    "  \"selLeptons_pt_0\",\n",
    "  \"selLeptons_eta_0\",\n",
    "  \"jjWPtBalance\",\n",
    "   \"AddJets252p9_puid_leadJet_btagCSV\"\n",
    "                            ])"
   ]
  },
  {
   "cell_type": "code",
   "execution_count": 69,
   "metadata": {},
   "outputs": [
    {
     "name": "stdout",
     "output_type": "stream",
     "text": [
      "(1294128, 16)\n",
      "(1294128,)\n"
     ]
    }
   ],
   "source": [
    "Xs = []\n",
    "for i in arrays:\n",
    "    Xs.append(arrays[i])\n",
    "Xs = np.array(Xs).transpose()\n",
    "Ys = uproot.open(\"allevts.root\")['tree'].arrays('sig')['sig']\n",
    "print Xs.shape\n",
    "print Ys.shape"
   ]
  },
  {
   "cell_type": "code",
   "execution_count": 72,
   "metadata": {},
   "outputs": [
    {
     "name": "stdout",
     "output_type": "stream",
     "text": [
      "(229165, 16)\n",
      "(229165,)\n",
      "Sig/bkg ratio: 0.4829795125782733\n"
     ]
    }
   ],
   "source": [
    "from sklearn.utils import shuffle\n",
    "from sklearn.model_selection import train_test_split\n",
    "import random\n",
    "X, y = shuffle(Xs, Ys, random_state=0)\n",
    "\n",
    "new_idx = []\n",
    "for i in y:\n",
    "    if i < 0.5:\n",
    "        if random.uniform(0, 1) > 0.1:\n",
    "            new_idx.append(False)\n",
    "        else:\n",
    "            new_idx.append(True)\n",
    "    else:\n",
    "        new_idx.append(True)\n",
    "X = X[new_idx]\n",
    "y = y[new_idx]\n",
    "print X.shape\n",
    "print y.shape\n",
    "print \"Sig/bkg ratio:\", sum(y)/len(y)\n",
    "\n",
    "X_train, X_test, y_train, y_test = train_test_split(X, y, test_size=0.33, random_state=42, shuffle=False)"
   ]
  },
  {
   "cell_type": "code",
   "execution_count": 73,
   "metadata": {},
   "outputs": [],
   "source": [
    "from keras.models import Sequential\n",
    "from keras.layers import Dense, Dropout\n",
    "import numpy\n",
    "# fix random seed for reproducibility\n",
    "numpy.random.seed()"
   ]
  },
  {
   "cell_type": "code",
   "execution_count": 74,
   "metadata": {},
   "outputs": [],
   "source": [
    "# create model\n",
    "model = Sequential()\n",
    "model.add(Dense(20, input_dim=X_train.shape[-1], activation='relu', kernel_initializer='random_uniform',\n",
    "                bias_initializer='zeros'))\n",
    "model.add(Dense(20, activation='relu'))\n",
    "model.add(Dense(20, activation='relu'))\n",
    "model.add(Dense(1, activation='sigmoid'))"
   ]
  },
  {
   "cell_type": "code",
   "execution_count": 75,
   "metadata": {},
   "outputs": [],
   "source": [
    "# Compile model\n",
    "model.compile(loss='binary_crossentropy', optimizer='adam', metrics=['accuracy'])"
   ]
  },
  {
   "cell_type": "code",
   "execution_count": null,
   "metadata": {},
   "outputs": [
    {
     "name": "stdout",
     "output_type": "stream",
     "text": [
      "Train on 122832 samples, validate on 30708 samples\n",
      "Epoch 1/100\n",
      "122832/122832 [==============================] - 1s 6us/step - loss: 0.6045 - acc: 0.6645 - val_loss: 0.5738 - val_acc: 0.6981\n",
      "Epoch 2/100\n",
      "122832/122832 [==============================] - 0s 3us/step - loss: 0.5632 - acc: 0.7056 - val_loss: 0.5554 - val_acc: 0.7130\n",
      "Epoch 3/100\n",
      "122832/122832 [==============================] - 0s 3us/step - loss: 0.5511 - acc: 0.7177 - val_loss: 0.5528 - val_acc: 0.7147\n",
      "Epoch 4/100\n",
      "122832/122832 [==============================] - 0s 4us/step - loss: 0.5405 - acc: 0.7283 - val_loss: 0.5451 - val_acc: 0.7168\n",
      "Epoch 5/100\n",
      "122832/122832 [==============================] - 0s 4us/step - loss: 0.5276 - acc: 0.7406 - val_loss: 0.5224 - val_acc: 0.7472\n",
      "Epoch 6/100\n",
      "122832/122832 [==============================] - 0s 4us/step - loss: 0.5174 - acc: 0.7501 - val_loss: 0.5137 - val_acc: 0.7501\n",
      "Epoch 7/100\n",
      "122832/122832 [==============================] - 0s 4us/step - loss: 0.5081 - acc: 0.7576 - val_loss: 0.5181 - val_acc: 0.7413\n",
      "Epoch 8/100\n",
      "122832/122832 [==============================] - 0s 4us/step - loss: 0.5016 - acc: 0.7607 - val_loss: 0.4993 - val_acc: 0.7654\n",
      "Epoch 9/100\n",
      "122832/122832 [==============================] - 0s 4us/step - loss: 0.4953 - acc: 0.7657 - val_loss: 0.4929 - val_acc: 0.7661\n",
      "Epoch 10/100\n",
      "122832/122832 [==============================] - 1s 4us/step - loss: 0.4907 - acc: 0.7683 - val_loss: 0.4909 - val_acc: 0.7693\n",
      "Epoch 11/100\n",
      "122832/122832 [==============================] - 1s 4us/step - loss: 0.4889 - acc: 0.7673 - val_loss: 0.4865 - val_acc: 0.7744\n",
      "Epoch 12/100\n",
      "122832/122832 [==============================] - 1s 4us/step - loss: 0.4829 - acc: 0.7724 - val_loss: 0.4886 - val_acc: 0.7734\n",
      "Epoch 13/100\n",
      "122832/122832 [==============================] - 1s 5us/step - loss: 0.4832 - acc: 0.7727 - val_loss: 0.4865 - val_acc: 0.7743\n",
      "Epoch 14/100\n",
      "122832/122832 [==============================] - 1s 4us/step - loss: 0.4825 - acc: 0.7733 - val_loss: 0.4895 - val_acc: 0.7737\n",
      "Epoch 15/100\n",
      "122832/122832 [==============================] - 0s 4us/step - loss: 0.4783 - acc: 0.7757 - val_loss: 0.4789 - val_acc: 0.7772\n",
      "Epoch 16/100\n",
      "122832/122832 [==============================] - 1s 4us/step - loss: 0.4770 - acc: 0.7755 - val_loss: 0.4801 - val_acc: 0.7719\n",
      "Epoch 17/100\n",
      "122832/122832 [==============================] - 1s 4us/step - loss: 0.4753 - acc: 0.7763 - val_loss: 0.4765 - val_acc: 0.7803\n",
      "Epoch 18/100\n",
      "122832/122832 [==============================] - 1s 4us/step - loss: 0.4742 - acc: 0.7758 - val_loss: 0.4813 - val_acc: 0.7775\n",
      "Epoch 19/100\n",
      "106496/122832 [=========================>....] - ETA: 0s - loss: 0.4721 - acc: 0.7775"
     ]
    }
   ],
   "source": [
    "# Fit the model\n",
    "model.fit(X_train, y_train, epochs=100, batch_size=1024, validation_split=0.2)"
   ]
  },
  {
   "cell_type": "code",
   "execution_count": null,
   "metadata": {},
   "outputs": [],
   "source": [
    "# evaluate the model\n",
    "scores = model.evaluate(X_test, y_test)\n",
    "print(\"\\n%s: %.2f%%\" % (model.metrics_names[1], scores[1]*100))"
   ]
  },
  {
   "cell_type": "code",
   "execution_count": 63,
   "metadata": {},
   "outputs": [],
   "source": [
    "predictions = model.predict(X_test)"
   ]
  },
  {
   "cell_type": "code",
   "execution_count": 64,
   "metadata": {},
   "outputs": [
    {
     "name": "stdout",
     "output_type": "stream",
     "text": [
      "75595 75595\n"
     ]
    }
   ],
   "source": [
    "print len(predictions), len(y_test)"
   ]
  },
  {
   "cell_type": "code",
   "execution_count": 65,
   "metadata": {},
   "outputs": [
    {
     "data": {
      "image/png": "[encoded data removed]",
      "text/plain": [
       "<Figure size 720x504 with 1 Axes>"
      ]
     },
     "metadata": {},
     "output_type": "display_data"
    }
   ],
   "source": [
    "plt.figure(figsize=(10,7))\n",
    "bins = np.arange(0,1,1/80.)\n",
    "#plt.semilogy()\n",
    "plt.hist(predictions, bins=bins, weights=y_test, alpha=0.5, normed=True, label=\"sig\")\n",
    "plt.hist(predictions, bins=bins, weights=1-y_test, alpha=0.5, normed=True, label=\"bkg\")\n",
    "plt.title(\"Keras DNN\")\n",
    "plt.legend()\n",
    "plt.show()"
   ]
  },
  {
   "cell_type": "code",
   "execution_count": 66,
   "metadata": {},
   "outputs": [],
   "source": [
    "compare = uproot.open(\"bdt_output.root\")['dataset/TestTree'].arrays(['classID', 'BDT', 'DNN'])\n",
    "truth = compare['classID']\n",
    "predBDT = compare['BDT']\n",
    "predDNN = compare['DNN']"
   ]
  },
  {
   "cell_type": "code",
   "execution_count": 67,
   "metadata": {},
   "outputs": [
    {
     "name": "stdout",
     "output_type": "stream",
     "text": [
      "BDT Efficiency at 30%:  75.0 , at 10%: 47.0 , at 1%: 12.0\n",
      "DNN Efficiency at 30%:  73.0 , at 10%: 44.0 , at 1%: 10.0\n",
      "Keras DNN Efficiency at 30%:  87.0 , at 10%: 60.0 , at 1%: 18.0\n"
     ]
    },
    {
     "data": {
      "image/png": "[encoded data removed]",
      "text/plain": [
       "<Figure size 720x504 with 1 Axes>"
      ]
     },
     "metadata": {},
     "output_type": "display_data"
    }
   ],
   "source": [
    "def find_nearest(array,value):\n",
    "        idx = (np.abs(array-value)).argmin()\n",
    "        return idx, array[idx]\n",
    "\n",
    "plt.figure(figsize=(10,7))\n",
    "\n",
    "fpr, tpr, threshold = roc_curve(truth, 1-predBDT)\n",
    "plt.plot(tpr, fpr, lw=1, label=\"TMVA BDT, auc= %.1f%%\"%(auc(fpr,tpr)*100), c='darkorange')\n",
    "ix3, m =  find_nearest(fpr, 0.3)\n",
    "ix1, m =  find_nearest(fpr, 0.1)\n",
    "ix01, m =  find_nearest(fpr, 0.01)\n",
    "print \"BDT Efficiency at 30%: \", round(tpr[ix3],2)*100, \", at 10%:\", round(tpr[ix1],2)*100, \", at 1%:\", round(tpr[ix01],2)*100\n",
    "fpr, tpr, threshold = roc_curve(truth, 1-predDNN)\n",
    "plt.plot(tpr, fpr, lw=1, label=\"TMVA DNN, auc= %.1f%%\"%(auc(fpr,tpr)*100), c='steelblue')\n",
    "ix3, m =  find_nearest(fpr, 0.3)\n",
    "ix1, m =  find_nearest(fpr, 0.1)\n",
    "ix01, m =  find_nearest(fpr, 0.01)\n",
    "print \"DNN Efficiency at 30%: \", round(tpr[ix3],2)*100, \", at 10%:\", round(tpr[ix1],2)*100, \", at 1%:\", round(tpr[ix01],2)*100\n",
    "fpr, tpr, threshold = roc_curve(y_test, predictions)\n",
    "plt.plot(tpr, fpr, lw=1, label=\"Keras DNN, auc= %.1f%%\"%(auc(fpr,tpr)*100), c='firebrick')\n",
    "ix3, m =  find_nearest(fpr, 0.3)\n",
    "ix1, m =  find_nearest(fpr, 0.1)\n",
    "ix01, m =  find_nearest(fpr, 0.01)\n",
    "print \"Keras DNN Efficiency at 30%: \", round(tpr[ix3],2)*100, \", at 10%:\", round(tpr[ix1],2)*100, \", at 1%:\", round(tpr[ix01],2)*100\n",
    "\n",
    "plt.xlim(0,1)\n",
    "plt.ylim(0.001,1)\n",
    "plt.title(\"VHbb discrimination\")\n",
    "plt.axhline(0.3, c='black')\n",
    "plt.axhline(0.1, c='black')\n",
    "plt.axhline(0.01, c='black')\n",
    "plt.xticks(np.arange(0,1.1,0.1))\n",
    "plt.legend()\n",
    "plt.xlabel(\"TPR\")\n",
    "plt.ylabel(\"FPR\")\n",
    "plt.grid()\n",
    "plt.semilogy()\n",
    "   \n",
    "plt.savefig('/mnt/c/Users/novak/Desktop/vhbb.png')\n",
    "\n"
   ]
  },
  {
   "cell_type": "code",
   "execution_count": null,
   "metadata": {},
   "outputs": [],
   "source": []
  },
  {
   "cell_type": "code",
   "execution_count": null,
   "metadata": {},
   "outputs": [],
   "source": []
  }
 ],
 "metadata": {
  "kernelspec": {
   "display_name": "Python 2",
   "language": "python",
   "name": "python2"
  },
  "language_info": {
   "codemirror_mode": {
    "name": "ipython",
    "version": 2
   },
   "file_extension": ".py",
   "mimetype": "text/x-python",
   "name": "python",
   "nbconvert_exporter": "python",
   "pygments_lexer": "ipython2",
   "version": "2.7.12"
  }
 },
 "nbformat": 4,
 "nbformat_minor": 2
}
