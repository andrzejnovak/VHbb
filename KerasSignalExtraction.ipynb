{
 "cells": [
  {
   "cell_type": "code",
   "execution_count": 76,
   "metadata": {},
   "outputs": [],
   "source": [
    "import rootpy\n",
    "import tensorflow as tf\n",
    "import keras\n",
    "import numpy as np"
   ]
  },
  {
   "cell_type": "code",
   "execution_count": 18,
   "metadata": {},
   "outputs": [],
   "source": [
    "import uproot"
   ]
  },
  {
   "cell_type": "code",
   "execution_count": 163,
   "metadata": {},
   "outputs": [],
   "source": [
    "arrays = uproot.open(\"input.root\")['tree'].arrays(['H_pt',\n",
    "                          'H_mass',\n",
    "                          'V_pt',\n",
    "                          'hJets_btagCSV_1',\n",
    "                          'hJets_btagCSV_0',\n",
    "                          'Top1_mass_fromLepton_regPT_w4MET',                       \n",
    "                          'V_mt',\n",
    "                          'met_pt'    \n",
    "                            ])"
   ]
  },
  {
   "cell_type": "code",
   "execution_count": 164,
   "metadata": {},
   "outputs": [],
   "source": [
    "labels = uproot.open(\"input.root\")['tree'].arrays(['sig'])"
   ]
  },
  {
   "cell_type": "code",
   "execution_count": 182,
   "metadata": {},
   "outputs": [
    {
     "name": "stdout",
     "output_type": "stream",
     "text": [
      "(647064, 8)\n",
      "(647064,)\n"
     ]
    }
   ],
   "source": [
    "Xs = []\n",
    "for i in arrays:\n",
    "    Xs.append(arrays[i])\n",
    "Xs = np.array(Xs).transpose()\n",
    "Ys = labels['sig']\n",
    "#Ys = Ys.transpose()\n",
    "print Xs.shape\n",
    "print Ys.shape"
   ]
  },
  {
   "cell_type": "code",
   "execution_count": 203,
   "metadata": {},
   "outputs": [],
   "source": [
    "from sklearn.utils import shuffle\n",
    "from sklearn.model_selection import train_test_split\n",
    "X, y = shuffle(Xs, Ys, random_state=0)\n",
    "\n",
    "X_train, X_test, y_train, y_test = train_test_split(X, y, test_size=0.33, random_state=42, shuffle=False)"
   ]
  },
  {
   "cell_type": "code",
   "execution_count": 204,
   "metadata": {},
   "outputs": [],
   "source": [
    "from keras.models import Sequential\n",
    "from keras.layers import Dense\n",
    "import numpy\n",
    "# fix random seed for reproducibility\n",
    "numpy.random.seed(7)"
   ]
  },
  {
   "cell_type": "code",
   "execution_count": 220,
   "metadata": {},
   "outputs": [],
   "source": [
    "# create model\n",
    "model = Sequential()\n",
    "model.add(Dense(20, input_dim=8, activation='relu'))\n",
    "model.add(Dense(20, activation='relu'))\n",
    "model.add(Dense(20, activation='relu'))\n",
    "model.add(Dense(1, activation='sigmoid'))"
   ]
  },
  {
   "cell_type": "code",
   "execution_count": 221,
   "metadata": {},
   "outputs": [],
   "source": [
    "# Compile model\n",
    "model.compile(loss='binary_crossentropy', optimizer='adam', metrics=['accuracy'])"
   ]
  },
  {
   "cell_type": "code",
   "execution_count": 238,
   "metadata": {},
   "outputs": [
    {
     "name": "stdout",
     "output_type": "stream",
     "text": [
      "Train on 346825 samples, validate on 86707 samples\n",
      "Epoch 1/30\n",
      "346825/346825 [==============================] - 1s 4us/step - loss: 0.2218 - acc: 0.9195 - val_loss: 0.2225 - val_acc: 0.9197\n",
      "Epoch 2/30\n",
      "346825/346825 [==============================] - 1s 4us/step - loss: 0.2214 - acc: 0.9196 - val_loss: 0.2222 - val_acc: 0.9196\n",
      "Epoch 3/30\n",
      "346825/346825 [==============================] - 1s 4us/step - loss: 0.2216 - acc: 0.9194 - val_loss: 0.2212 - val_acc: 0.9194\n",
      "Epoch 4/30\n",
      "346825/346825 [==============================] - 1s 4us/step - loss: 0.2210 - acc: 0.9198 - val_loss: 0.2243 - val_acc: 0.9182\n",
      "Epoch 5/30\n",
      "346825/346825 [==============================] - 1s 4us/step - loss: 0.2213 - acc: 0.9196 - val_loss: 0.2241 - val_acc: 0.9177\n",
      "Epoch 6/30\n",
      "346825/346825 [==============================] - 1s 4us/step - loss: 0.2209 - acc: 0.9198 - val_loss: 0.2246 - val_acc: 0.9186\n",
      "Epoch 7/30\n",
      "346825/346825 [==============================] - 1s 4us/step - loss: 0.2210 - acc: 0.9196 - val_loss: 0.2239 - val_acc: 0.9183\n",
      "Epoch 8/30\n",
      "346825/346825 [==============================] - 1s 4us/step - loss: 0.2212 - acc: 0.9196 - val_loss: 0.2232 - val_acc: 0.9183\n",
      "Epoch 9/30\n",
      "346825/346825 [==============================] - 2s 5us/step - loss: 0.2206 - acc: 0.9198 - val_loss: 0.2218 - val_acc: 0.9196\n",
      "Epoch 10/30\n",
      "346825/346825 [==============================] - 1s 4us/step - loss: 0.2212 - acc: 0.9197 - val_loss: 0.2220 - val_acc: 0.9195\n",
      "Epoch 11/30\n",
      "346825/346825 [==============================] - 2s 5us/step - loss: 0.2207 - acc: 0.9197 - val_loss: 0.2213 - val_acc: 0.9199\n",
      "Epoch 12/30\n",
      "346825/346825 [==============================] - 2s 5us/step - loss: 0.2208 - acc: 0.9196 - val_loss: 0.2217 - val_acc: 0.9197\n",
      "Epoch 13/30\n",
      "346825/346825 [==============================] - 1s 4us/step - loss: 0.2209 - acc: 0.9196 - val_loss: 0.2236 - val_acc: 0.9179\n",
      "Epoch 14/30\n",
      "346825/346825 [==============================] - 1s 4us/step - loss: 0.2204 - acc: 0.9198 - val_loss: 0.2270 - val_acc: 0.9177\n",
      "Epoch 15/30\n",
      "346825/346825 [==============================] - 1s 4us/step - loss: 0.2207 - acc: 0.9199 - val_loss: 0.2224 - val_acc: 0.9193\n",
      "Epoch 16/30\n",
      "346825/346825 [==============================] - 2s 6us/step - loss: 0.2203 - acc: 0.9198 - val_loss: 0.2276 - val_acc: 0.9161\n",
      "Epoch 17/30\n",
      "346825/346825 [==============================] - 2s 6us/step - loss: 0.2204 - acc: 0.9197 - val_loss: 0.2271 - val_acc: 0.9177\n",
      "Epoch 18/30\n",
      "346825/346825 [==============================] - 2s 4us/step - loss: 0.2209 - acc: 0.9196 - val_loss: 0.2234 - val_acc: 0.9183\n",
      "Epoch 19/30\n",
      "346825/346825 [==============================] - 2s 5us/step - loss: 0.2199 - acc: 0.9201 - val_loss: 0.2217 - val_acc: 0.9196\n",
      "Epoch 20/30\n",
      "346825/346825 [==============================] - 2s 4us/step - loss: 0.2201 - acc: 0.9201 - val_loss: 0.2229 - val_acc: 0.9190\n",
      "Epoch 21/30\n",
      "346825/346825 [==============================] - 2s 5us/step - loss: 0.2208 - acc: 0.9198 - val_loss: 0.2224 - val_acc: 0.9193\n",
      "Epoch 22/30\n",
      "346825/346825 [==============================] - 2s 5us/step - loss: 0.2203 - acc: 0.9197 - val_loss: 0.2225 - val_acc: 0.9190\n",
      "Epoch 23/30\n",
      "346825/346825 [==============================] - 2s 5us/step - loss: 0.2203 - acc: 0.9198 - val_loss: 0.2244 - val_acc: 0.9189\n",
      "Epoch 24/30\n",
      "346825/346825 [==============================] - 2s 5us/step - loss: 0.2200 - acc: 0.9200 - val_loss: 0.2214 - val_acc: 0.9198\n",
      "Epoch 25/30\n",
      "346825/346825 [==============================] - 2s 5us/step - loss: 0.2201 - acc: 0.9199 - val_loss: 0.2241 - val_acc: 0.9186\n",
      "Epoch 26/30\n",
      "346825/346825 [==============================] - 2s 5us/step - loss: 0.2201 - acc: 0.9201 - val_loss: 0.2225 - val_acc: 0.9193\n",
      "Epoch 27/30\n",
      "346825/346825 [==============================] - 2s 5us/step - loss: 0.2203 - acc: 0.9198 - val_loss: 0.2248 - val_acc: 0.9177\n",
      "Epoch 28/30\n",
      "346825/346825 [==============================] - 2s 5us/step - loss: 0.2197 - acc: 0.9200 - val_loss: 0.2270 - val_acc: 0.9165\n",
      "Epoch 29/30\n",
      "346825/346825 [==============================] - 2s 5us/step - loss: 0.2203 - acc: 0.9197 - val_loss: 0.2210 - val_acc: 0.9196\n",
      "Epoch 30/30\n",
      "346825/346825 [==============================] - 2s 5us/step - loss: 0.2200 - acc: 0.9199 - val_loss: 0.2208 - val_acc: 0.9196\n"
     ]
    },
    {
     "data": {
      "text/plain": [
       "<keras.callbacks.History at 0x7ff26fb63450>"
      ]
     },
     "execution_count": 238,
     "metadata": {},
     "output_type": "execute_result"
    }
   ],
   "source": [
    "# Fit the model\n",
    "model.fit(X_train, y_train, epochs=30, batch_size=500, validation_split=0.2)"
   ]
  },
  {
   "cell_type": "code",
   "execution_count": 239,
   "metadata": {},
   "outputs": [
    {
     "name": "stdout",
     "output_type": "stream",
     "text": [
      "213532/213532 [==============================] - 4s 20us/step\n",
      "\n",
      "acc: 92.15%\n"
     ]
    }
   ],
   "source": [
    "# evaluate the model\n",
    "scores = model.evaluate(X_test, y_test)\n",
    "print(\"\\n%s: %.2f%%\" % (model.metrics_names[1], scores[1]*100))"
   ]
  },
  {
   "cell_type": "code",
   "execution_count": 240,
   "metadata": {},
   "outputs": [],
   "source": [
    "predictions = model.predict(X_test)"
   ]
  },
  {
   "cell_type": "code",
   "execution_count": 241,
   "metadata": {},
   "outputs": [
    {
     "name": "stdout",
     "output_type": "stream",
     "text": [
      "213532 213532\n"
     ]
    }
   ],
   "source": [
    "print len(predictions), len(y_test)"
   ]
  },
  {
   "cell_type": "code",
   "execution_count": 245,
   "metadata": {},
   "outputs": [
    {
     "data": {
      "image/png": "[encoded data removed]",
      "text/plain": [
       "<Figure size 720x504 with 1 Axes>"
      ]
     },
     "metadata": {},
     "output_type": "display_data"
    }
   ],
   "source": [
    "plt.figure(figsize=(10,7))\n",
    "bins = np.arange(0,1,1/80.)\n",
    "#plt.semilogy()\n",
    "plt.hist(predictions, bins=bins, weights=y_test, alpha=0.5, normed=True, label=\"sig\")\n",
    "plt.hist(predictions, bins=bins, weights=1-y_test, alpha=0.5, normed=True, label=\"bkg\")\n",
    "plt.title(\"Keras DNN\")\n",
    "plt.legend()\n",
    "plt.show()"
   ]
  },
  {
   "cell_type": "code",
   "execution_count": 243,
   "metadata": {},
   "outputs": [],
   "source": [
    "from sklearn.metrics import roc_curve, auc"
   ]
  },
  {
   "cell_type": "code",
   "execution_count": 247,
   "metadata": {},
   "outputs": [
    {
     "data": {
      "image/png": "[encoded data removed]",
      "text/plain": [
       "<Figure size 432x288 with 1 Axes>"
      ]
     },
     "metadata": {},
     "output_type": "display_data"
    }
   ],
   "source": [
    "fpr, tpr, threshold = roc_curve(y_test, predictions)\n",
    "plt.plot(tpr, fpr, lw=1, label=\"DNN, auc= %.1f%%\"%(auc(fpr,tpr)*100), c='darkorange')\n",
    "plt.xlim(0,1)\n",
    "plt.ylim(0.001,1)\n",
    "plt.title(\"VHbb discrimination\")\n",
    "plt.axhline(0.1, c='black')\n",
    "plt.axhline(0.01, c='black')\n",
    "plt.xticks(np.arange(0,1.1,0.1))\n",
    "plt.legend()\n",
    "plt.xlabel(\"TPR\")\n",
    "plt.ylabel(\"FPR\")\n",
    "plt.grid()\n",
    "plt.semilogy()\n",
    "plt.show()"
   ]
  },
  {
   "cell_type": "code",
   "execution_count": null,
   "metadata": {},
   "outputs": [],
   "source": []
  }
 ],
 "metadata": {
  "kernelspec": {
   "display_name": "Python 2",
   "language": "python",
   "name": "python2"
  },
  "language_info": {
   "codemirror_mode": {
    "name": "ipython",
    "version": 2
   },
   "file_extension": ".py",
   "mimetype": "text/x-python",
   "name": "python",
   "nbconvert_exporter": "python",
   "pygments_lexer": "ipython2",
   "version": "2.7.12"
  }
 },
 "nbformat": 4,
 "nbformat_minor": 2
}
